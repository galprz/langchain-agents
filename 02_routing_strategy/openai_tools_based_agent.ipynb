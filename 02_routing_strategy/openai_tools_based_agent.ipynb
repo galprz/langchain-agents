{
 "cells": [
  {
   "cell_type": "code",
   "execution_count": null,
   "id": "e16cee127234b015",
   "metadata": {
    "ExecuteTime": {
     "end_time": "2024-03-20T21:09:42.735771Z",
     "start_time": "2024-03-20T21:09:42.088226Z"
    },
    "collapsed": false
   },
   "outputs": [],
   "source": [
    "from dotenv import load_dotenv\n",
    "from langchain.agents.format_scratchpad.openai_tools import format_to_openai_tool_messages\n",
    "\n",
    "load_dotenv()"
   ]
  },
  {
   "cell_type": "markdown",
   "id": "1092d623",
   "metadata": {},
   "source": [
    "<img src=\"../images/openai-example.png\" width=\"850\" height=\"500\">"
   ]
  },
  {
   "cell_type": "code",
   "execution_count": null,
   "id": "initial_id",
   "metadata": {
    "ExecuteTime": {
     "end_time": "2024-03-20T21:09:42.846266Z",
     "start_time": "2024-03-20T21:09:42.734527Z"
    },
    "collapsed": false
   },
   "outputs": [],
   "source": [
    "from langchain import hub\n",
    "from langchain.agents import AgentExecutor, create_openai_tools_agent\n",
    "from langchain_community.tools import DuckDuckGoSearchRun\n",
    "from langchain_openai import ChatOpenAI"
   ]
  },
  {
   "cell_type": "code",
   "execution_count": null,
   "id": "6924395f",
   "metadata": {},
   "outputs": [],
   "source": [
    "hub.pull(\"hwchase17/openai-tools-agent\").invoke({\"input\": \"What is the most populated city in the world?\", \"agent_scratchpad\":[]}).to_string()"
   ]
  },
  {
   "cell_type": "markdown",
   "id": "f6392989",
   "metadata": {},
   "source": [
    "<h1>Define the tools</h1>\n",
    "<img src=\"../images/openai-example-tools.png\" width=\"850\" height=\"500\">"
   ]
  },
  {
   "cell_type": "code",
   "execution_count": null,
   "id": "17ae37ff45a82c46",
   "metadata": {
    "ExecuteTime": {
     "end_time": "2024-03-20T21:09:42.881974Z",
     "start_time": "2024-03-20T21:09:42.849497Z"
    },
    "collapsed": false
   },
   "outputs": [],
   "source": [
    "from typing import Dict\n",
    "from langchain_core.tools import tool\n",
    "from langchain_core.utils.function_calling import convert_to_openai_tool\n",
    "from langchain_community.tools import DuckDuckGoSearchRun\n",
    "\n",
    "\n",
    "# Define the tools\n",
    "@tool\n",
    "def characters_count(word: str) -> Dict[str, int]:\n",
    "    \"\"\"This tool count the number of characters in a word and returns the number. use this tool only if the intent of the user is to count characters\"\"\"\n",
    "    return { \"response\": len(word) }\n",
    "\n",
    "tools = [characters_count, DuckDuckGoSearchRun()]\n",
    "[convert_to_openai_tool(tool) for tool in tools]"
   ]
  },
  {
   "cell_type": "markdown",
   "id": "5a2573e7",
   "metadata": {},
   "source": [
    "<img src=\"../images/openai-routing-strategy.png\" width=\"850\" height=\"500\">"
   ]
  },
  {
   "cell_type": "code",
   "execution_count": null,
   "id": "c2aa2a51510ba35b",
   "metadata": {
    "ExecuteTime": {
     "end_time": "2024-03-20T21:09:45.345593Z",
     "start_time": "2024-03-20T21:09:43.186320Z"
    },
    "collapsed": false
   },
   "outputs": [],
   "source": [
    "\n",
    "prompt = hub.pull(\"hwchase17/openai-tools-agent\")\n",
    "llm = ChatOpenAI(model=\"gpt-3.5-turbo-1106\", temperature=0)\n",
    "# llm_with_tools = llm.bind(tools=[convert_to_openai_tool(tool) for tool in tools])\n",
    "# \n",
    "# agent = (\n",
    "#     RunnablePassthrough.assign(\n",
    "#         agent_scratchpad=lambda x: format_to_openai_tool_messages(\n",
    "#             x[\"intermediate_steps\"]\n",
    "#         )\n",
    "#     )\n",
    "#     | prompt\n",
    "#     | llm_with_tools\n",
    "#     | OpenAIToolsAgentOutputParser()\n",
    "#     )\n",
    "\n",
    "agent = create_openai_tools_agent(llm, tools, prompt)\n"
   ]
  },
  {
   "cell_type": "markdown",
   "id": "94915edcb71b3c28",
   "metadata": {
    "ExecuteTime": {
     "end_time": "2024-03-20T21:09:47.413071Z",
     "start_time": "2024-03-20T21:09:45.339169Z"
    },
    "collapsed": false
   },
   "source": [
    "<img src=\"../images/openao-tool-exec.png\" width=\"850\" height=\"500\">"
   ]
  },
  {
   "cell_type": "code",
   "execution_count": null,
   "id": "a7ad35b5bcfaa9b0",
   "metadata": {
    "ExecuteTime": {
     "end_time": "2024-03-20T21:10:12.888282Z",
     "start_time": "2024-03-20T21:10:11.823990Z"
    },
    "collapsed": false
   },
   "outputs": [],
   "source": [
    "print(agent.invoke({\"input\": \"What is the most populated city in the world?\",\"intermediate_steps\":\"\"}))"
   ]
  },
  {
   "cell_type": "code",
   "execution_count": null,
   "id": "b1f9fcb7a4dac290",
   "metadata": {
    "ExecuteTime": {
     "end_time": "2024-03-18T22:19:02.838413Z",
     "start_time": "2024-03-18T22:18:58.731235Z"
    },
    "collapsed": false
   },
   "outputs": [],
   "source": [
    "agent_executor = AgentExecutor(agent=agent, tools=tools, verbose=True)\n",
    "agent_executor.invoke({\"input\": \"how many chars in the middle name of will smith?\"})"
   ]
  },
  {
   "cell_type": "markdown",
   "id": "119acdc9",
   "metadata": {},
   "source": [
    "<a href=\"https://smith.langchain.com/o/a25e8a2d-5312-4d0d-9f0c-c9311a37078b/projects/p/4afa5f3c-6ac1-44a2-a8a5-4e917b7a8bc5?columnVisibilityModel=%7B%22outputs%22%3Afalse%2C%22feedback_stats%22%3Afalse%2C%22reference_example%22%3Afalse%7D&timeModel=%7B%22duration%22%3A%227d%22%7D\">Langsmith</a>"
   ]
  },
  {
   "cell_type": "markdown",
   "id": "209b29a2",
   "metadata": {},
   "source": [
    "<img src=\"../images/prompt-eng-in-langsmith.png\" width=\"850\" height=\"500\">"
   ]
  },
  {
   "cell_type": "code",
   "execution_count": null,
   "id": "b2e0477130f366a0",
   "metadata": {
    "collapsed": false
   },
   "outputs": [],
   "source": [
    "agent_executor.invoke({\"input\": \"how many chars in the middle name of will smith? don't count on your previous infomration search the web instead\"})\n"
   ]
  },
  {
   "cell_type": "code",
   "execution_count": null,
   "id": "625b64d5",
   "metadata": {},
   "outputs": [],
   "source": []
  }
 ],
 "metadata": {
  "kernelspec": {
   "display_name": "Python 3",
   "language": "python",
   "name": "python3"
  },
  "language_info": {
   "codemirror_mode": {
    "name": "ipython",
    "version": 3
   },
   "file_extension": ".py",
   "mimetype": "text/x-python",
   "name": "python",
   "nbconvert_exporter": "python",
   "pygments_lexer": "ipython3",
   "version": "3.11.4"
  }
 },
 "nbformat": 4,
 "nbformat_minor": 5
}
