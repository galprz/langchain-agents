{
 "cells": [
  {
   "cell_type": "code",
   "execution_count": null,
   "id": "initial_id",
   "metadata": {
    "ExecuteTime": {
     "end_time": "2024-03-18T21:19:20.795900Z",
     "start_time": "2024-03-18T21:19:20.788316Z"
    },
    "collapsed": true
   },
   "outputs": [],
   "source": [
    "from typing import Dict\n",
    "from dotenv import load_dotenv\n",
    "from langchain.agents import  AgentExecutor\n",
    "from langchain_core.prompts import PromptTemplate\n",
    "from langchain_core.runnables import RunnablePassthrough\n",
    "\n",
    "load_dotenv()"
   ]
  },
  {
   "cell_type": "code",
   "execution_count": null,
   "id": "8b3ef118a2e08d49",
   "metadata": {
    "ExecuteTime": {
     "end_time": "2024-03-18T22:08:23.379876Z",
     "start_time": "2024-03-18T22:08:23.363060Z"
    },
    "collapsed": false
   },
   "outputs": [],
   "source": [
    "prompt = \"\"\"\n",
    "Assistant is a large language model trained by OpenAI.\n",
    "\n",
    "Assistant is designed to be able to assist with a wide range of tasks, from answering simple questions to providing in-depth explanations and discussions on a wide range of topics. As a language model, Assistant is able to generate human-like text based on the input it receives, allowing it to engage in natural-sounding conversations and provide responses that are coherent and relevant to the topic at hand.\n",
    "\n",
    "Assistant is constantly learning and improving, and its capabilities are constantly evolving. It is able to process and understand large amounts of text, and can use this knowledge to provide accurate and informative responses to a wide range of questions. Additionally, Assistant is able to generate its own text based on the input it receives, allowing it to engage in discussions and provide explanations and descriptions on a wide range of topics.\n",
    "\n",
    "Overall, Assistant is a powerful tool that can help with a wide range of tasks and provide valuable insights and information on a wide range of topics. Whether you need help with a specific question or just want to have a conversation about a particular topic, Assistant is here to assist.\n",
    "\n",
    "TOOLS:\n",
    "------\n",
    "\n",
    "Assistant has access to the following tools:\n",
    "\n",
    "{tools}\n",
    "\n",
    "To use a tool, please use the following format:\n",
    "\n",
    "```\n",
    "Thought: Do I need to use a tool? Yes\n",
    "Action: the action to take, should be one of [{tool_names}]\n",
    "Action Input: the input to the action\n",
    "Observation: the result of the action\n",
    "```\n",
    "\n",
    "When you have a response to say to the Human, or if you do not need to use a tool, you MUST use the format:\n",
    "\n",
    "```\n",
    "Thought: Do I need to use a tool? No\n",
    "Final Answer: [your response here]\n",
    "```\n",
    "\n",
    "Begin!\n",
    "\n",
    "Previous conversation history:\n",
    "{chat_history}\n",
    "\n",
    "New input: {input}\n",
    "{agent_scratchpad}\n",
    "\n",
    "\"\"\"\n",
    "\n",
    "prompt = PromptTemplate.from_template(prompt)\n"
   ]
  },
  {
   "cell_type": "code",
   "execution_count": null,
   "id": "dda57c96a6c56758",
   "metadata": {
    "ExecuteTime": {
     "end_time": "2024-03-18T22:10:00.731070Z",
     "start_time": "2024-03-18T22:10:00.724067Z"
    },
    "collapsed": false
   },
   "outputs": [],
   "source": [
    "from langchain_core.tools import tool\n",
    "from langchain_community.tools import DuckDuckGoSearchRun\n",
    "from langchain.tools.render import  render_text_description\n",
    "\n",
    "# Define the tools\n",
    "@tool\n",
    "def characters_count(word: str) -> Dict[str, int]:\n",
    "    \"\"\"This tool count the number of characters in a word and returns the number. use this tool only if the intent of the user is to count characters\"\"\"\n",
    "    return { \"response\": len(word) }\n",
    "\n",
    "tools = [characters_count, DuckDuckGoSearchRun(description=\"This is a search engine tool, If you don't know a piece of information use this tool to search for it don't count on previous knowledge. use this tool to get information from the web.\")]\n",
    "\n",
    "print(render_text_description(tools).replace(\"\\n\", \"\\n\\n\"))\n"
   ]
  },
  {
   "cell_type": "code",
   "execution_count": null,
   "id": "2beed203d5111895",
   "metadata": {
    "ExecuteTime": {
     "end_time": "2024-03-18T22:10:01.079469Z",
     "start_time": "2024-03-18T22:10:01.077468Z"
    },
    "collapsed": false
   },
   "outputs": [],
   "source": [
    "prompt = prompt.partial(\n",
    "    tools=render_text_description(list(tools)),\n",
    "    tool_names=\", \".join([t.name for t in tools]),\n",
    ")"
   ]
  },
  {
   "cell_type": "code",
   "execution_count": null,
   "id": "1db969fe1a475ff",
   "metadata": {
    "ExecuteTime": {
     "end_time": "2024-03-18T22:10:45.834886Z",
     "start_time": "2024-03-18T22:10:45.799996Z"
    },
    "collapsed": false
   },
   "outputs": [],
   "source": [
    "from langchain_openai import ChatOpenAI\n",
    "\n",
    "# llm = ChatOpenAI(model=\"gpt-3.5-turbo-1106\", temperature=0)\n",
    "llm = ChatOpenAI(model=\"gpt-4-turbo-preview\", temperature=0)\n"
   ]
  },
  {
   "cell_type": "code",
   "execution_count": null,
   "id": "15cc9f812826a0c6",
   "metadata": {
    "ExecuteTime": {
     "end_time": "2024-03-18T22:14:54.521911Z",
     "start_time": "2024-03-18T22:14:54.520085Z"
    },
    "collapsed": false
   },
   "outputs": [],
   "source": [
    "from langchain.agents.format_scratchpad import format_log_to_str\n",
    "from langchain.agents.output_parsers import ReActSingleInputOutputParser\n",
    "output_parser = ReActSingleInputOutputParser()\n",
    "llm_with_stop = llm.bind(stop=[\"\\nObservation\"])\n",
    "agent = (\n",
    "    RunnablePassthrough.assign(\n",
    "        agent_scratchpad=lambda x: format_log_to_str(x[\"intermediate_steps\"]),\n",
    "    )\n",
    "    | prompt\n",
    "    | llm_with_stop\n",
    "    | output_parser\n",
    ")\n"
   ]
  },
  {
   "cell_type": "code",
   "execution_count": null,
   "id": "19258b6c6586dfad",
   "metadata": {
    "ExecuteTime": {
     "end_time": "2024-03-18T22:15:03.294801Z",
     "start_time": "2024-03-18T22:14:55.655511Z"
    },
    "collapsed": false
   },
   "outputs": [],
   "source": [
    "agent_executor = AgentExecutor(agent=agent, tools=tools, verbose=True)\n",
    "agent_executor.invoke({\"input\": \"how many characters are in the middle name of will smith\",\n",
    "                       \"chat_history\":[]})"
   ]
  },
  {
   "cell_type": "code",
   "execution_count": null,
   "id": "38a144bc4e19eded",
   "metadata": {
    "ExecuteTime": {
     "end_time": "2024-03-18T22:10:03.135518Z",
     "start_time": "2024-03-18T22:10:03.131264Z"
    },
    "collapsed": false
   },
   "outputs": [],
   "source": []
  }
 ],
 "metadata": {
  "kernelspec": {
   "display_name": "Python 3",
   "language": "python",
   "name": "python3"
  },
  "language_info": {
   "codemirror_mode": {
    "name": "ipython",
    "version": 3
   },
   "file_extension": ".py",
   "mimetype": "text/x-python",
   "name": "python",
   "nbconvert_exporter": "python",
   "pygments_lexer": "ipython3",
   "version": "3.11.4"
  }
 },
 "nbformat": 4,
 "nbformat_minor": 5
}
