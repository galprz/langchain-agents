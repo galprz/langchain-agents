{
 "cells": [
  {
   "cell_type": "code",
   "execution_count": null,
   "id": "initial_id",
   "metadata": {
    "ExecuteTime": {
     "end_time": "2024-03-25T12:06:54.694533Z",
     "start_time": "2024-03-25T12:06:54.675104Z"
    },
    "collapsed": true
   },
   "outputs": [],
   "source": [
    "from dotenv import load_dotenv\n",
    "\n",
    "load_dotenv()"
   ]
  },
  {
   "cell_type": "markdown",
   "id": "739209b7",
   "metadata": {},
   "source": [
    "<img src=\"../images/rpa.png\"> </img>"
   ]
  },
  {
   "cell_type": "code",
   "execution_count": null,
   "id": "3606c9fbc993a857",
   "metadata": {
    "ExecuteTime": {
     "end_time": "2024-03-25T12:06:54.797300Z",
     "start_time": "2024-03-25T12:06:54.683520Z"
    },
    "collapsed": false
   },
   "outputs": [],
   "source": [
    "import nest_asyncio\n",
    "nest_asyncio.apply()\n",
    "from typing import List, Optional, TypedDict\n",
    "from langchain_core.messages import BaseMessage\n",
    "from playwright.async_api import Page"
   ]
  },
  {
   "cell_type": "code",
   "execution_count": null,
   "id": "9fb15e1a",
   "metadata": {},
   "outputs": [],
   "source": [
    "class BBox(TypedDict):\n",
    "    x: float\n",
    "    y: float\n",
    "    text: str\n",
    "    type: str\n",
    "    ariaLabel: str\n",
    "    \n",
    "\n",
    "class Prediction(TypedDict):\n",
    "    action: str\n",
    "    args: Optional[List[str]]"
   ]
  },
  {
   "cell_type": "code",
   "execution_count": null,
   "id": "eafb9b47361b7a48",
   "metadata": {
    "ExecuteTime": {
     "end_time": "2024-03-25T12:06:54.801745Z",
     "start_time": "2024-03-25T12:06:54.799101Z"
    },
    "collapsed": false
   },
   "outputs": [],
   "source": [
    "class AgentState(TypedDict):\n",
    "    page: Page \n",
    "    input: str  \n",
    "    img: str  \n",
    "    bboxes: List[BBox]  \n",
    "    prediction: Prediction \n",
    "    scratchpad: List[BaseMessage]\n",
    "    observation: str"
   ]
  },
  {
   "cell_type": "code",
   "execution_count": null,
   "id": "cb161b42268f3848",
   "metadata": {
    "ExecuteTime": {
     "end_time": "2024-03-25T12:06:54.808122Z",
     "start_time": "2024-03-25T12:06:54.802067Z"
    },
    "collapsed": false
   },
   "outputs": [],
   "source": [
    "import asyncio\n",
    "import platform\n",
    "\n",
    "\n",
    "async def click(state: AgentState):\n",
    "    # - Click [Numerical_Label]\n",
    "    page = state[\"page\"]\n",
    "    click_args = state[\"prediction\"][\"args\"]\n",
    "    if click_args is None or len(click_args) != 1:\n",
    "        return f\"Failed to click bounding box labeled as number {click_args}\"\n",
    "    bbox_id = click_args[0]\n",
    "    bbox_id = int(bbox_id)\n",
    "    try:\n",
    "        bbox = state[\"bboxes\"][bbox_id]\n",
    "    except:\n",
    "        return f\"Error: no bbox for : {bbox_id}\"\n",
    "    x, y = bbox[\"x\"], bbox[\"y\"]\n",
    "    res = await page.mouse.click(x, y)\n",
    "    # TODO: In the paper, they automatically parse any downloaded PDFs\n",
    "    # We could add something similar here as well and generally\n",
    "    # improve response format.\n",
    "    return f\"Clicked {bbox_id}\"\n",
    "\n",
    "\n",
    "async def type_text(state: AgentState):\n",
    "    page = state[\"page\"]\n",
    "    type_args = state[\"prediction\"][\"args\"]\n",
    "    if type_args is None or len(type_args) != 2:\n",
    "        return (\n",
    "            f\"Failed to type in element from bounding box labeled as number {type_args}\"\n",
    "        )\n",
    "    bbox_id = type_args[0]\n",
    "    bbox_id = int(bbox_id)\n",
    "    bbox = state[\"bboxes\"][bbox_id]\n",
    "    x, y = bbox[\"x\"], bbox[\"y\"]\n",
    "    text_content = type_args[1]\n",
    "    await page.mouse.click(x, y)\n",
    "    # Check if MacOS\n",
    "    select_all = \"Meta+A\" if platform.system() == \"Darwin\" else \"Control+A\"\n",
    "    await page.keyboard.press(select_all)\n",
    "    await page.keyboard.press(\"Backspace\")\n",
    "    await page.keyboard.type(text_content)\n",
    "    await page.keyboard.press(\"Enter\")\n",
    "    return f\"Typed {text_content} and submitted\"\n",
    "\n",
    "\n",
    "async def scroll(state: AgentState):\n",
    "    page = state[\"page\"]\n",
    "    scroll_args = state[\"prediction\"][\"args\"]\n",
    "    if scroll_args is None or len(scroll_args) != 2:\n",
    "        return \"Failed to scroll due to incorrect arguments.\"\n",
    "\n",
    "    target, direction = scroll_args\n",
    "\n",
    "    if target.upper() == \"WINDOW\":\n",
    "        # Not sure the best value for this:\n",
    "        scroll_amount = 500\n",
    "        scroll_direction = (\n",
    "            -scroll_amount if direction.lower() == \"up\" else scroll_amount\n",
    "        )\n",
    "        await page.evaluate(f\"window.scrollBy(0, {scroll_direction})\")\n",
    "    else:\n",
    "        # Scrolling within a specific element\n",
    "        scroll_amount = 200\n",
    "        target_id = int(target)\n",
    "        bbox = state[\"bboxes\"][target_id]\n",
    "        x, y = bbox[\"x\"], bbox[\"y\"]\n",
    "        scroll_direction = (\n",
    "            -scroll_amount if direction.lower() == \"up\" else scroll_amount\n",
    "        )\n",
    "        await page.mouse.move(x, y)\n",
    "        await page.mouse.wheel(0, scroll_direction)\n",
    "\n",
    "    return f\"Scrolled {direction} in {'window' if target.upper() == 'WINDOW' else 'element'}\"\n",
    "\n",
    "\n",
    "async def wait(state: AgentState):\n",
    "    sleep_time = 5\n",
    "    await asyncio.sleep(sleep_time)\n",
    "    return f\"Waited for {sleep_time}s.\"\n",
    "\n",
    "\n",
    "async def go_back(state: AgentState):\n",
    "    page = state[\"page\"]\n",
    "    await page.go_back()\n",
    "    return f\"Navigated back a page to {page.url}.\"\n",
    "\n",
    "\n",
    "async def to_google(state: AgentState):\n",
    "    page = state[\"page\"]\n",
    "    await page.goto(\"https://www.google.com/\")\n",
    "    return \"Navigated to google.com.\""
   ]
  },
  {
   "cell_type": "code",
   "execution_count": null,
   "id": "148b1465a956dee6",
   "metadata": {
    "ExecuteTime": {
     "end_time": "2024-03-25T12:06:54.825972Z",
     "start_time": "2024-03-25T12:06:54.809323Z"
    },
    "collapsed": false
   },
   "outputs": [],
   "source": [
    "import asyncio\n",
    "import base64\n",
    "\n",
    "from langchain_core.runnables import chain as chain_decorator\n",
    "\n",
    "# Some javascript we will run on each step\n",
    "# to take a screenshot of the page, select the\n",
    "# elements to annotate, and add bounding boxes\n",
    "with open(\"mark_page.js\") as f:\n",
    "    mark_page_script = f.read()\n",
    "\n",
    "@chain_decorator\n",
    "async def mark_page(page):\n",
    "    await page.evaluate(mark_page_script)\n",
    "    for _ in range(10):\n",
    "        try:\n",
    "            bboxes = await page.evaluate(\"markPage()\")\n",
    "            break\n",
    "        except:\n",
    "            # May be loading...\n",
    "            asyncio.sleep(3)\n",
    "    screenshot = await page.screenshot()\n",
    "    # Ensure the bboxes don't follow us around\n",
    "    await page.evaluate(\"unmarkPage()\")\n",
    "    return {\n",
    "        \"img\": base64.b64encode(screenshot).decode(),\n",
    "        \"bboxes\": bboxes,\n",
    "    }\n",
    "\n",
    "async def annotate(state):\n",
    "    marked_page = await mark_page.with_retry().ainvoke(state[\"page\"])\n",
    "    return {**state, **marked_page}"
   ]
  },
  {
   "cell_type": "code",
   "execution_count": null,
   "id": "388ca8953ebdfe25",
   "metadata": {
    "ExecuteTime": {
     "end_time": "2024-03-25T12:06:56.119836Z",
     "start_time": "2024-03-25T12:06:54.826143Z"
    },
    "collapsed": false
   },
   "outputs": [],
   "source": [
    "from langchain import hub\n",
    "from langchain_core.output_parsers import StrOutputParser\n",
    "from langchain_core.prompts import ChatPromptTemplate, MessagesPlaceholder\n",
    "from langchain_core.runnables import RunnablePassthrough\n",
    "from langchain_openai import ChatOpenAI\n",
    "\n",
    "prompt = hub.pull(\"wfh/web-voyager\")"
   ]
  },
  {
   "cell_type": "code",
   "execution_count": null,
   "id": "7dd1561d",
   "metadata": {},
   "outputs": [],
   "source": [
    "print(prompt.messages[0].prompt[0].template)"
   ]
  },
  {
   "cell_type": "code",
   "execution_count": null,
   "id": "503b2ff1982ea7fe",
   "metadata": {
    "ExecuteTime": {
     "end_time": "2024-03-25T12:06:56.608886Z",
     "start_time": "2024-03-25T12:06:56.121242Z"
    },
    "collapsed": false
   },
   "outputs": [],
   "source": [
    "from helpers import format_descriptions, parse\n",
    "\n",
    "llm = ChatOpenAI(model=\"gpt-4-vision-preview\", max_tokens=4096)\n",
    "agent = annotate | RunnablePassthrough.assign(\n",
    "    prediction=format_descriptions | prompt | llm | StrOutputParser() | parse\n",
    ")"
   ]
  },
  {
   "cell_type": "code",
   "execution_count": null,
   "id": "d85a0a161d5657f3",
   "metadata": {
    "ExecuteTime": {
     "end_time": "2024-03-25T12:06:56.640223Z",
     "start_time": "2024-03-25T12:06:56.609392Z"
    },
    "collapsed": false
   },
   "outputs": [],
   "source": [
    "from langchain_core.runnables import RunnableLambda\n",
    "from langgraph.graph import END, StateGraph\n",
    "from helpers import update_scratchpad, select_tool\n",
    "\n",
    "graph_builder = StateGraph(AgentState)\n",
    "\n",
    "graph_builder.add_node(\"agent\", agent)\n",
    "graph_builder.set_entry_point(\"agent\")\n",
    "\n",
    "graph_builder.add_node(\"update_scratchpad\", update_scratchpad)\n",
    "graph_builder.add_edge(\"update_scratchpad\", \"agent\")\n",
    "\n",
    "tools = {\n",
    "    \"Click\": click,\n",
    "    \"Type\": type_text,\n",
    "    \"Scroll\": scroll,\n",
    "    \"Wait\": wait,\n",
    "    \"GoBack\": go_back,\n",
    "    \"Google\": to_google,\n",
    "}\n",
    "\n",
    "\n",
    "for node_name, tool in tools.items():\n",
    "    graph_builder.add_node(\n",
    "        node_name,\n",
    "        RunnableLambda(tool) | (lambda observation: {\"observation\": observation}),\n",
    "    )\n",
    "    graph_builder.add_edge(node_name, \"update_scratchpad\")\n",
    "\n",
    "graph_builder.add_conditional_edges(\"agent\", select_tool)\n",
    "\n",
    "graph = graph_builder.compile()"
   ]
  },
  {
   "cell_type": "code",
   "execution_count": null,
   "id": "ed7e23b280395d42",
   "metadata": {
    "ExecuteTime": {
     "end_time": "2024-03-25T12:06:58.786771Z",
     "start_time": "2024-03-25T12:06:56.641052Z"
    },
    "collapsed": false
   },
   "outputs": [],
   "source": [
    "import playwright\n",
    "from IPython import display\n",
    "from playwright.async_api import async_playwright\n",
    "\n",
    "browser = await async_playwright().start()\n",
    "# We will set headless=False so we can watch the agent navigate the web.\n",
    "browser = await browser.chromium.launch(headless=False, args=None)\n",
    "page = await browser.new_page()\n",
    "_ = await page.goto(\"https://www.google.com\")\n",
    "\n",
    "\n",
    "async def call_agent(question: str, page, max_steps: int = 150):\n",
    "    event_stream = graph.astream(\n",
    "        {\n",
    "            \"page\": page,\n",
    "            \"input\": question,\n",
    "            \"scratchpad\": [],\n",
    "        },\n",
    "        {\n",
    "            \"recursion_limit\": max_steps,\n",
    "        },\n",
    "    )\n",
    "    final_answer = None\n",
    "    steps = []\n",
    "    async for event in event_stream:\n",
    "        # We'll display an event stream here\n",
    "        if \"agent\" not in event:\n",
    "            continue\n",
    "        pred = event[\"agent\"].get(\"prediction\") or {}\n",
    "        action = pred.get(\"action\")\n",
    "        action_input = pred.get(\"args\")\n",
    "        display.clear_output(wait=False)\n",
    "        steps.append(f\"{len(steps) + 1}. {action}: {action_input}\")\n",
    "        print(\"\\n\".join(steps))\n",
    "        display.display(display.Image(base64.b64decode(event[\"agent\"][\"img\"])))\n",
    "        if \"ANSWER\" in action:\n",
    "            final_answer = action_input[0]\n",
    "            break\n",
    "    return final_answer"
   ]
  },
  {
   "cell_type": "code",
   "execution_count": null,
   "id": "55ccf58d4dd2d462",
   "metadata": {
    "collapsed": false
   },
   "outputs": [],
   "source": [
    "res = await call_agent(\"give me information about the attention is all you need paper from arxiv\", page)\n",
    "print(f\"Final response: {res}\") "
   ]
  },
  {
   "cell_type": "code",
   "execution_count": null,
   "id": "75548b73b8b565b7",
   "metadata": {
    "ExecuteTime": {
     "end_time": "2024-03-25T12:07:29.040010Z",
     "start_time": "2024-03-25T12:07:29.036632Z"
    },
    "collapsed": false
   },
   "outputs": [],
   "source": []
  },
  {
   "cell_type": "code",
   "execution_count": null,
   "id": "59f0fe8e76bfda02",
   "metadata": {
    "collapsed": false
   },
   "outputs": [],
   "source": []
  }
 ],
 "metadata": {
  "kernelspec": {
   "display_name": "Python 3",
   "language": "python",
   "name": "python3"
  },
  "language_info": {
   "codemirror_mode": {
    "name": "ipython",
    "version": 3
   },
   "file_extension": ".py",
   "mimetype": "text/x-python",
   "name": "python",
   "nbconvert_exporter": "python",
   "pygments_lexer": "ipython3",
   "version": "3.11.4"
  }
 },
 "nbformat": 4,
 "nbformat_minor": 5
}
