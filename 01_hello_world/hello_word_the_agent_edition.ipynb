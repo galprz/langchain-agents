{
 "cells": [
  {
   "cell_type": "markdown",
   "id": "761dec662b11e440",
   "metadata": {
    "ExecuteTime": {
     "end_time": "2024-03-21T16:13:57.164290Z",
     "start_time": "2024-03-21T16:13:56.323105Z"
    },
    "collapsed": false
   },
   "source": [
    "<img src=\"../images/hello_world.png\" width=\"750\" height=\"500\">"
   ]
  },
  {
   "cell_type": "code",
   "execution_count": null,
   "id": "dbcc3297",
   "metadata": {},
   "outputs": [],
   "source": [
    "from typing import Dict\n",
    "from dotenv import load_dotenv\n",
    "from langchain.agents import create_react_agent, AgentExecutor\n",
    "\n",
    "# Setup and OPENAI key\n",
    "# OPENAI_API_KEY = <YOUR_OPENAI_API_KEY>\n",
    "\n",
    "load_dotenv()"
   ]
  },
  {
   "cell_type": "code",
   "execution_count": null,
   "id": "initial_id",
   "metadata": {
    "ExecuteTime": {
     "end_time": "2024-03-21T16:13:57.164432Z",
     "start_time": "2024-03-21T16:13:57.159549Z"
    },
    "collapsed": false
   },
   "outputs": [],
   "source": [
    "from langchain_openai import ChatOpenAI\n",
    "from langchain_core.tools import tool\n",
    "from langchain import hub\n",
    "\n",
    "# Define the tools\n",
    "@tool\n",
    "def words_count(sentence: str) -> Dict[str, int]:\n",
    "    \"\"\"This tool count the number of words in sentence and returns the number. use this tool only if the intent of the user is to count words\"\"\"\n",
    "    return { \"Number of words in the sentence is:\": len(sentence.split(\" \")) }\n",
    "\n",
    "# Define the prompt of react\n",
    "prompt = hub.pull(\"hwchase17/openai-tools-agent\")\n",
    "llm = ChatOpenAI(model=\"gpt-3.5-turbo-1106\", temperature=0)\n",
    "tools = [words_count]"
   ]
  },
  {
   "cell_type": "code",
   "execution_count": null,
   "id": "7b5e0a36",
   "metadata": {},
   "outputs": [],
   "source": [
    "llm.invoke(\"count the number of words in this sentence and output the number\")"
   ]
  },
  {
   "cell_type": "code",
   "execution_count": null,
   "id": "f5ce3ae4d27add5",
   "metadata": {
    "ExecuteTime": {
     "end_time": "2024-03-21T16:13:58.745423Z",
     "start_time": "2024-03-21T16:13:57.161453Z"
    },
    "collapsed": false
   },
   "outputs": [],
   "source": [
    "from langchain.agents import AgentExecutor, create_openai_tools_agent\n",
    "agent = create_openai_tools_agent(llm, tools, prompt)\n",
    "agent_executor = AgentExecutor(agent=agent, tools=tools, verbose=True)\n",
    "agent_executor.invoke({\"input\": \"count the number of words in this sentence and output the number\",\n",
    "                       \"chat_history\":[]})\n",
    "\n"
   ]
  },
  {
   "cell_type": "code",
   "execution_count": null,
   "id": "d4bcd397",
   "metadata": {},
   "outputs": [],
   "source": []
  },
  {
   "cell_type": "code",
   "execution_count": null,
   "id": "b4c8fccd",
   "metadata": {},
   "outputs": [],
   "source": []
  }
 ],
 "metadata": {
  "kernelspec": {
   "display_name": "Python 3",
   "language": "python",
   "name": "python3"
  },
  "language_info": {
   "codemirror_mode": {
    "name": "ipython",
    "version": 3
   },
   "file_extension": ".py",
   "mimetype": "text/x-python",
   "name": "python",
   "nbconvert_exporter": "python",
   "pygments_lexer": "ipython3",
   "version": "3.11.4"
  }
 },
 "nbformat": 4,
 "nbformat_minor": 5
}
