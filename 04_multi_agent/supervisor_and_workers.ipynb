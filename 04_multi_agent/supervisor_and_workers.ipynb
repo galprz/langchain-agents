{
 "cells": [
  {
   "cell_type": "code",
   "execution_count": null,
   "id": "initial_id",
   "metadata": {
    "ExecuteTime": {
     "end_time": "2024-03-23T23:34:41.718719Z",
     "start_time": "2024-03-23T23:34:41.709922Z"
    },
    "collapsed": true
   },
   "outputs": [],
   "source": [
    "from operator import itemgetter\n",
    "\n",
    "from dotenv import load_dotenv\n",
    "from langchain import hub\n",
    "from langchain.agents import AgentExecutor\n",
    "from langchain.agents.format_scratchpad.openai_tools import format_to_openai_tool_messages\n",
    "from langchain_core.utils.function_calling import convert_to_openai_tool\n",
    "from langchain_openai import ChatOpenAI\n",
    "\n",
    "load_dotenv()"
   ]
  },
  {
   "cell_type": "markdown",
   "id": "791ef5a3",
   "metadata": {},
   "source": [
    "<img src=\"../images/multi-agent-supervisor.png\" width=\"850\" height=\"500\">"
   ]
  },
  {
   "cell_type": "code",
   "execution_count": null,
   "id": "8a642ef8f1064b11",
   "metadata": {
    "ExecuteTime": {
     "end_time": "2024-03-23T23:34:42.235411Z",
     "start_time": "2024-03-23T23:34:42.163312Z"
    },
    "collapsed": false
   },
   "outputs": [],
   "source": [
    "from langchain.agents.output_parsers.openai_tools import OpenAIToolsAgentOutputParser\n",
    "from langchain_core.prompts import ChatPromptTemplate, MessagesPlaceholder, HumanMessagePromptTemplate, \\\n",
    "    ChatMessagePromptTemplate, PromptTemplate\n",
    "from langchain_core.tools import tool\n",
    "\n",
    "# Define the tools\n",
    "@tool\n",
    "def send_to_researcher(research_query: str) -> str:\n",
    "    \"\"\"Use this tool when you want to send task to the researcher with a research query\"\"\"\n",
    "    return \"Researcher\"\n",
    "\n",
    "@tool\n",
    "def send_to_blogger(blogging_task: str) -> str:\n",
    "    \"\"\"Use this tool when you want to send task to the blogger with a blogging task\"\"\"\n",
    "    return \"Blogger\"\n",
    "\n",
    "@tool\n",
    "def finish() -> str:\n",
    "    \"\"\"When you have the blog post ready, use this tool to finish the task.\"\"\"\n",
    "    return \"Finish\"\n",
    "\n",
    "supervisor_tools = [send_to_researcher, send_to_blogger, finish]\n",
    "llm_supervisor = ChatOpenAI(model=\"gpt-3.5-turbo-1106\", temperature=0).bind_functions(supervisor_tools)\n",
    "\n",
    "prompt = PromptTemplate.from_template(\"\"\"\n",
    "# Instructions\n",
    "You are a supervisor tasked with managing Researcher and Blogger an orchestrate the tasks between them and output the best blog post.\n",
    "You should evaluate the research findings and the blog post in a critique eye and decide if the quality is enough.\n",
    "\n",
    "You should send task to the researcher when the research is not complete which mean the findings of the researcher still missing information for writing the blog post.\n",
    "The task to the reasearcher should be to search the web and to research about the topic it should be short and concise (maximum 15 words) and should guide the researcher to the right direction to start the research or to extend it.\n",
    "The task for the blogger should be to write the blog post, it should be short and concise (maximum 15 words) and should guide the blogger what to write about or how to improve the existing blog post draft.\n",
    "In any case you think the research materials are missing you should send task to the researcher, however if the research materials are complete but the blog post is still not ready from your perspective you should send task to the blogger.\n",
    "In case the blog post is ready you should finish.\n",
    "                                      \n",
    "# Guidelines\n",
    "**Extensive Research**: Make sure the researcher has done extensive research on the topic with meaningful findings.\n",
    "**Quality Blog Post**: Make sure the blog post is well written and informative.\n",
    "\n",
    "Topic: {topic}                        \n",
    "Research Findings: {researcher_findings}\n",
    "Blogger Draft: {blogger_draft}\n",
    "\n",
    "Decide who should act next and on what task, Or should we FINISH?\n",
    "\"\"\")\n",
    "llm = ChatOpenAI(model=\"gpt-4-turbo-preview\", temperature=0, verbose=True)\n",
    "llm_gpt35 = ChatOpenAI(model=\"gpt-3.5-turbo-1106\", temperature=0)\n",
    "supervisor_llm_with_tools = llm.bind(tools=[convert_to_openai_tool(tool) for tool in supervisor_tools])\n",
    "\n",
    "supervisor = {\"researcher_findings\":  itemgetter(\"researcher_findings\"), \n",
    "              \"blogger_draft\": itemgetter(\"blogger_draft\"),\n",
    "              \"topic\": itemgetter(\"topic\")} | prompt | supervisor_llm_with_tools | OpenAIToolsAgentOutputParser()\n"
   ]
  },
  {
   "cell_type": "code",
   "execution_count": null,
   "id": "c3118ffbafdab165",
   "metadata": {
    "ExecuteTime": {
     "end_time": "2024-03-23T23:34:45.812560Z",
     "start_time": "2024-03-23T23:34:42.353293Z"
    },
    "collapsed": false
   },
   "outputs": [],
   "source": [
    "action = supervisor.invoke({\"topic\":\"The impact of climate change on the economy\", \n",
    "                            \"researcher_findings\":\"Climate change is a major threat to the economy\",\n",
    "                            \"blogger_draft\":\"\"})[0]\n",
    "print(f\"Name of function: {action.tool}\")\n",
    "print(f\"Param: {action.tool_input}\")"
   ]
  },
  {
   "cell_type": "markdown",
   "id": "405eceaf",
   "metadata": {},
   "source": [
    "<img src=\"../images/multi-agent-researcher.png\" width=\"850\" height=\"500\">"
   ]
  },
  {
   "cell_type": "code",
   "execution_count": null,
   "id": "274493cc424a8d2a",
   "metadata": {
    "ExecuteTime": {
     "end_time": "2024-03-23T23:34:47.296774Z",
     "start_time": "2024-03-23T23:34:45.806924Z"
    },
    "collapsed": false
   },
   "outputs": [],
   "source": [
    "prompt = hub.pull(\"hwchase17/openai-tools-agent\")\n",
    "prompt.messages"
   ]
  },
  {
   "cell_type": "code",
   "execution_count": null,
   "id": "f872fac20740b7c7",
   "metadata": {
    "ExecuteTime": {
     "end_time": "2024-03-23T23:34:47.297165Z",
     "start_time": "2024-03-23T23:34:47.282880Z"
    },
    "collapsed": false
   },
   "outputs": [],
   "source": [
    "from langchain_community.tools import DuckDuckGoSearchRun\n",
    "from langchain_core.runnables import RunnablePassthrough, RunnableLambda\n",
    "\n",
    "prompt = ChatPromptTemplate.from_messages(\n",
    "    [\n",
    "        (\"system\",\"You are a researcher you can use the web to research about a task taking into account all the information you have on the subject.\"),\n",
    "        (\"human\",\"Previous known information about the subject: {previous_information}\"),\n",
    "        (\"human\",\"Task: {task}\"),\n",
    "        (\"human\",\"Given the task and the previous known info if you think that you need more information to complete the research and present findings for the research task search the web using DuckDuckGo to find more information about the task. summarize your finding.\"),\n",
    "        MessagesPlaceholder(variable_name=\"agent_scratchpad\")\n",
    "    ]\n",
    ")\n",
    "\n",
    "researcher_tools = [DuckDuckGoSearchRun()]\n",
    "researcher_agent = ({\n",
    "                 \"previous_information\": itemgetter(\"researcher_findings\") | RunnableLambda(lambda x: \"\\n\\n\".join(x)),\n",
    "                 \"task\": itemgetter(\"task\"),\n",
    "                \"agent_scratchpad\": itemgetter(\"intermediate_steps\") | RunnableLambda(format_to_openai_tool_messages)\n",
    "              } \n",
    "              | prompt\n",
    "              | llm.bind(tools=[convert_to_openai_tool(tool) for tool in researcher_tools])\n",
    "              | OpenAIToolsAgentOutputParser())\n",
    "researcher = AgentExecutor(agent=researcher_agent, tools=researcher_tools, verbose=True)"
   ]
  },
  {
   "cell_type": "code",
   "execution_count": null,
   "id": "aa6c3d77",
   "metadata": {},
   "outputs": [],
   "source": [
    "[convert_to_openai_tool(tool) for tool in researcher_tools]"
   ]
  },
  {
   "cell_type": "code",
   "execution_count": null,
   "id": "33e5dc498dc4d126",
   "metadata": {
    "ExecuteTime": {
     "end_time": "2024-03-23T23:37:03.468474Z",
     "start_time": "2024-03-23T23:36:39.474635Z"
    },
    "collapsed": false
   },
   "outputs": [],
   "source": [
    "researcher_output = researcher.invoke({\"researcher_findings\":[\"Climate change is a major threat to the economy\"], \"task\":\"Research the impact of climate change on the economy\"})\n",
    "print(researcher_output)"
   ]
  },
  {
   "cell_type": "markdown",
   "id": "646fb92b",
   "metadata": {},
   "source": [
    "<img src=\"../images/multi-agent-blogger.png\" width=\"850\" height=\"500\">"
   ]
  },
  {
   "cell_type": "code",
   "execution_count": null,
   "id": "f85c8929018e1cef",
   "metadata": {
    "ExecuteTime": {
     "end_time": "2024-03-24T00:03:26.795563Z",
     "start_time": "2024-03-24T00:03:26.788030Z"
    },
    "collapsed": false
   },
   "outputs": [],
   "source": [
    "prompt = PromptTemplate.from_template(\"\"\"\n",
    "# Instructions\n",
    "You are a professional blogger tasked with writing a blog post about a subject. you are given a research materials from a professional researcher that already did the research for you. Use ONLY the research materials to write the blog post and DON'T use your previous knowledge about the subject.\n",
    "Research Findings:\\n {researcher_findings}\n",
    "Your previous Draft:\\n {blogger_draft}\n",
    "Current Writing Task\\n: {current_task}\n",
    "Your Blog Post:\\n\n",
    "\"\"\")\n",
    "writer = (\n",
    "    {\n",
    "     \"researcher_findings\": itemgetter(\"researcher_findings\"),\n",
    "     \"blogger_draft\": itemgetter(\"blogger_draft\"),\n",
    "     \"current_task\": itemgetter(\"task\")\n",
    "    }\n",
    "    | prompt\n",
    "    | llm_gpt35\n",
    ")"
   ]
  },
  {
   "cell_type": "code",
   "execution_count": null,
   "id": "8e0f7ae6e3854ac7",
   "metadata": {
    "ExecuteTime": {
     "end_time": "2024-03-24T00:06:45.461453Z",
     "start_time": "2024-03-24T00:06:17.436026Z"
    },
    "collapsed": false
   },
   "outputs": [],
   "source": [
    "writer.invoke({\"researcher_findings\":researcher_output['output'], \"blogger_draft\":\"\", \"task\":\"Write a blog post about the impact of climate change on the economy\"})"
   ]
  },
  {
   "cell_type": "markdown",
   "id": "d877995f2f033cc",
   "metadata": {
    "collapsed": false
   },
   "source": [
    "<img src=\"../images/multi-agent-state.png\" width=\"850\" height=\"500\">"
   ]
  },
  {
   "cell_type": "code",
   "execution_count": null,
   "id": "a59c7d87",
   "metadata": {},
   "outputs": [],
   "source": [
    "import operator\n",
    "from typing import Annotated, List, TypedDict\n",
    "from langgraph.graph import StateGraph, END\n",
    "from langchain.schema import AgentFinish\n",
    "\n",
    "\n",
    "class AgentState(TypedDict):\n",
    "    topic: str\n",
    "    turn: str\n",
    "    researcher_task: str\n",
    "    blogger_task: str\n",
    "    blogger_draft: str\n",
    "    researcher_findings: Annotated[List[str], operator.add]\n",
    "\n",
    "def supervisor_node(state):\n",
    "    action = supervisor.invoke(state)\n",
    "    if type(action) == AgentFinish:\n",
    "        return {\"turn\":\"finish\"}\n",
    "    action = action[0]\n",
    "    if \"send_to_researcher\" == action.tool:\n",
    "        return {\"turn\":\"researcher\", \"researcher_task\":action.tool_input , \"researcher_findings\": state[\"researcher_findings\"] or [] }\n",
    "    elif \"send_to_blogger\" == action.tool:\n",
    "        return {\"turn\":\"blogger\", \"blogger_task\":action.tool_input, \"researcher_findings\": state[\"researcher_findings\"] or [], \"blogger_draft\": state[\"blogger_draft\"] or \"\"}\n",
    "    else:\n",
    "        return {\"turn\":\"finish\"}\n",
    "    \n",
    "def researcher_node(state):\n",
    "    researcher_output = researcher.invoke({\"researcher_findings\":state[\"researcher_findings\"], \"task\":state[\"researcher_task\"]})\n",
    "    return {\"researcher_findings\": [researcher_output['output']]}\n",
    "\n",
    "def blogger_node(state):\n",
    "    blogger_output = writer.invoke({\"researcher_findings\":state[\"researcher_findings\"], \"blogger_draft\":state[\"blogger_draft\"], \"task\":state[\"blogger_task\"]})\n",
    "    return {\"blogger_draft\": blogger_output.content}\n",
    "\n",
    "workflow = StateGraph(AgentState)\n",
    "workflow.add_node(\"researcher\", researcher_node)\n",
    "workflow.add_node(\"blogger\", blogger_node)\n",
    "workflow.add_node(\"supervisor\", supervisor_node)\n",
    "workflow.add_edge(\"researcher\", \"supervisor\")\n",
    "workflow.add_edge(\"blogger\", \"supervisor\")\n",
    "\n",
    "def routing_logic(state):\n",
    "    if state[\"researcher_findings\"] and len(state[\"researcher_findings\"]) > 3 and state[\"turn\"]==\"researcher\":\n",
    "        return \"blogger\"\n",
    "    else:\n",
    "        return state[\"turn\"]\n",
    "\n",
    "conditional_map = {k:k for k in [\"researcher\", \"blogger\"]}\n",
    "conditional_map[\"finish\"] = END\n",
    "workflow.add_conditional_edges(\"supervisor\", routing_logic, conditional_map)\n",
    "workflow.set_entry_point(\"supervisor\")\n",
    "\n",
    "graph = workflow.compile()\n",
    "graph.invoke({\"topic\":\"The impact of climate change on the economy\"})"
   ]
  },
  {
   "cell_type": "code",
   "execution_count": null,
   "id": "02dac2c7",
   "metadata": {},
   "outputs": [],
   "source": [
    "\n",
    "for s in graph.stream(\n",
    "    {\"topic\":\"The impact of climate change on the economy\"}\n",
    "):\n",
    "    if \"__end__\" not in s:\n",
    "        print(s)\n",
    "        print(\"----\")"
   ]
  },
  {
   "cell_type": "code",
   "execution_count": null,
   "id": "581c6d1b",
   "metadata": {},
   "outputs": [],
   "source": []
  },
  {
   "cell_type": "code",
   "execution_count": null,
   "id": "7b9340b1",
   "metadata": {},
   "outputs": [],
   "source": []
  }
 ],
 "metadata": {
  "kernelspec": {
   "display_name": "Python 3",
   "language": "python",
   "name": "python3"
  },
  "language_info": {
   "codemirror_mode": {
    "name": "ipython",
    "version": 3
   },
   "file_extension": ".py",
   "mimetype": "text/x-python",
   "name": "python",
   "nbconvert_exporter": "python",
   "pygments_lexer": "ipython3",
   "version": "3.11.4"
  }
 },
 "nbformat": 4,
 "nbformat_minor": 5
}
