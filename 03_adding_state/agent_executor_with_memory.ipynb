{
 "cells": [
  {
   "cell_type": "markdown",
   "id": "221eb4f3d2e862cb",
   "metadata": {
    "ExecuteTime": {
     "end_time": "2024-03-21T12:32:51.246351Z",
     "start_time": "2024-03-21T12:32:51.232938Z"
    },
    "collapsed": false
   },
   "source": [
    "<img src=\"../images/define-the-state.png\" width=\"850\" height=\"500\">"
   ]
  },
  {
   "cell_type": "code",
   "execution_count": null,
   "id": "cf7a729b",
   "metadata": {},
   "outputs": [],
   "source": [
    "from dotenv import load_dotenv\n",
    "# OPENAI_API_KEY = os.getenv(\"OPENAI_API_KEY\")\n",
    "# LANGCHAIN_API_KEY = os.getenv(\"LANGCHAIN_API_KEY\")\n",
    "# LANGCHAIN_PROJECT = os.getenv(\"LANGCHAIN_PROJECT\")\n",
    "load_dotenv()"
   ]
  },
  {
   "cell_type": "code",
   "execution_count": null,
   "id": "initial_id",
   "metadata": {
    "ExecuteTime": {
     "end_time": "2024-03-21T12:49:18.623268Z",
     "start_time": "2024-03-21T12:49:18.620480Z"
    },
    "collapsed": false
   },
   "outputs": [],
   "source": [
    "import operator\n",
    "import json\n",
    "from typing import TypedDict, Annotated, Sequence\n",
    "\n",
    "from langgraph.prebuilt import ToolExecutor\n",
    "from langgraph.prebuilt import ToolInvocation\n",
    "from langchain_core.utils.function_calling import format_tool_to_openai_function\n",
    "from langchain_core.messages import BaseMessage, HumanMessage\n",
    "from langchain_core.messages import FunctionMessage\n",
    "\n",
    "from langchain_openai import ChatOpenAI\n",
    "from langchain_community.tools.ddg_search import DuckDuckGoSearchRun\n"
   ]
  },
  {
   "cell_type": "code",
   "execution_count": null,
   "id": "49e2cba121eeacb7",
   "metadata": {
    "ExecuteTime": {
     "end_time": "2024-03-21T12:40:07.621937Z",
     "start_time": "2024-03-21T12:40:07.574078Z"
    },
    "collapsed": false
   },
   "outputs": [],
   "source": [
    "\n",
    "# Setup the tools\n",
    "tools = [DuckDuckGoSearchRun()]\n",
    "tool_executor = ToolExecutor(tools)\n",
    "\n",
    "# Setup the llm\n",
    "llm = ChatOpenAI(temperature=0, streaming=True)\n",
    "functions = [format_tool_to_openai_function(t) for t in tools]\n",
    "model = llm.bind_functions(functions)"
   ]
  },
  {
   "cell_type": "markdown",
   "id": "2cbf8abe",
   "metadata": {},
   "source": [
    "<img src=\"../images/define-the-state.png\" width=\"850\" height=\"500\">"
   ]
  },
  {
   "cell_type": "code",
   "execution_count": null,
   "id": "9ccf7584ca4c8c57",
   "metadata": {
    "ExecuteTime": {
     "end_time": "2024-03-21T12:40:08.260586Z",
     "start_time": "2024-03-21T12:40:08.255956Z"
    },
    "collapsed": false
   },
   "outputs": [],
   "source": [
    "class AgentState(TypedDict):\n",
    "    messages: Annotated[Sequence[BaseMessage], operator.add]"
   ]
  },
  {
   "cell_type": "markdown",
   "id": "ebec7745",
   "metadata": {},
   "source": [
    "<img src=\"../images/agent-loop.png\" width=\"550\" height=\"500\">"
   ]
  },
  {
   "cell_type": "code",
   "execution_count": null,
   "id": "48c24e576faa970d",
   "metadata": {
    "ExecuteTime": {
     "end_time": "2024-03-21T12:40:08.771141Z",
     "start_time": "2024-03-21T12:40:08.768390Z"
    },
    "collapsed": false
   },
   "outputs": [],
   "source": [
    "# Define the Nodes\n",
    "\n",
    "def agent_node(state):\n",
    "    messages = state[\"messages\"]\n",
    "    response = model.invoke(messages)\n",
    "    return {\"messages\": [response]}\n",
    "\n",
    "\n",
    "def should_continue(state):\n",
    "    messages = state[\"messages\"]\n",
    "    last_message = messages[-1]\n",
    "\n",
    "    if \"function_call\" not in last_message.additional_kwargs:\n",
    "        return \"end\"\n",
    "    else:\n",
    "        return \"continue\"\n",
    "\n",
    "\n",
    "def action(state):\n",
    "    messages = state[\"messages\"]\n",
    "    last_message = messages[-1]\n",
    "    action = ToolInvocation(\n",
    "        tool=last_message.additional_kwargs[\"function_call\"][\"name\"],\n",
    "        tool_input=json.loads(\n",
    "            last_message.additional_kwargs[\"function_call\"][\"arguments\"]\n",
    "        ),\n",
    "    )\n",
    "    response = tool_executor.invoke(action)\n",
    "    function_message = FunctionMessage(content=str(response), name=action.tool)\n",
    "    return {\"messages\": [function_message]}"
   ]
  },
  {
   "cell_type": "code",
   "execution_count": null,
   "id": "9ee63aa3cd17dc8f",
   "metadata": {
    "ExecuteTime": {
     "end_time": "2024-03-21T12:40:09.197861Z",
     "start_time": "2024-03-21T12:40:09.193473Z"
    },
    "collapsed": false
   },
   "outputs": [],
   "source": [
    "# Define the graph (Nodes + Edges)\n",
    "\n",
    "from langgraph.graph import StateGraph, END\n",
    "workflow = StateGraph(AgentState)\n",
    "\n",
    "workflow.add_node(\"agent\", agent_node)\n",
    "workflow.add_node(\"action\", action)\n",
    "\n",
    "workflow.set_entry_point(\"agent\")\n",
    "\n",
    "workflow.add_conditional_edges(\n",
    "    \"agent\",\n",
    "    should_continue,\n",
    "    {\n",
    "        \"continue\": \"action\",\n",
    "        \"end\": END,\n",
    "    },\n",
    ")\n",
    "\n",
    "\n",
    "workflow.add_edge(\"action\", \"agent\")\n",
    "agent_executor_with_mem = workflow.compile()"
   ]
  },
  {
   "cell_type": "code",
   "execution_count": null,
   "id": "a846605517cd5b09",
   "metadata": {
    "ExecuteTime": {
     "end_time": "2024-03-21T12:47:37.905702Z",
     "start_time": "2024-03-21T12:47:37.898395Z"
    },
    "collapsed": false
   },
   "outputs": [],
   "source": [
    "print(agent_executor_with_mem.get_graph().draw_ascii())"
   ]
  },
  {
   "cell_type": "code",
   "execution_count": null,
   "id": "21a1a32d744b126b",
   "metadata": {
    "ExecuteTime": {
     "end_time": "2024-03-21T12:55:54.818737Z",
     "start_time": "2024-03-21T12:55:48.918402Z"
    },
    "collapsed": false
   },
   "outputs": [],
   "source": [
    "output = agent_executor_with_mem.invoke({\"messages\": [HumanMessage(content=\"what is the population size of canada?\")]})\n",
    "output[\"messages\"][-1]"
   ]
  },
  {
   "cell_type": "code",
   "execution_count": null,
   "id": "65997714",
   "metadata": {},
   "outputs": [],
   "source": [
    "output[\"messages\"]"
   ]
  },
  {
   "cell_type": "code",
   "execution_count": null,
   "id": "3cb0a110b7fb0dd8",
   "metadata": {
    "ExecuteTime": {
     "end_time": "2024-03-21T12:56:26.109197Z",
     "start_time": "2024-03-21T12:56:21.740293Z"
    },
    "collapsed": false
   },
   "outputs": [],
   "source": [
    "output = agent_executor_with_mem.invoke({\"messages\": output[\"messages\"]+[HumanMessage(content=\"and for china?\")]})\n",
    "output[\"messages\"][-1]"
   ]
  },
  {
   "cell_type": "code",
   "execution_count": null,
   "id": "1fc78926f4daf5de",
   "metadata": {
    "ExecuteTime": {
     "end_time": "2024-03-21T13:02:07.883383Z",
     "start_time": "2024-03-21T13:02:04.967492Z"
    },
    "collapsed": false
   },
   "outputs": [],
   "source": [
    "\n",
    "inputs = {\"messages\": [HumanMessage(content=\"what is the weather in sf\")]}\n",
    "for event in agent_executor_with_mem.stream(inputs):\n",
    "    for key, value in event.items():\n",
    "        print(f\"Output from node '{key}':\")\n",
    "        print(\"---\")\n",
    "        print(value)\n",
    "    print(\"\\n---\\n\")"
   ]
  },
  {
   "cell_type": "code",
   "execution_count": null,
   "id": "fbd477802fa3895c",
   "metadata": {
    "ExecuteTime": {
     "end_time": "2024-03-21T13:20:23.621267Z",
     "start_time": "2024-03-21T13:20:19.096666Z"
    },
    "collapsed": false
   },
   "outputs": [],
   "source": [
    "from langgraph.checkpoint.sqlite import SqliteSaver\n",
    "\n",
    "memory = SqliteSaver.from_conn_string(\":memory:\")\n",
    "agent_executor_with_persistence_mem = workflow.compile(checkpointer=memory)\n",
    "\n",
    "inputs = {\"messages\":[HumanMessage(content=\"what do you think about apple stock?\")]}\n",
    "for event in agent_executor_with_persistence_mem.stream(inputs, {\"configurable\": {\"thread_id\": \"2\"}}):\n",
    "    for k, v in event.items():\n",
    "        if k != \"__end__\":\n",
    "            print(v)"
   ]
  },
  {
   "cell_type": "code",
   "execution_count": null,
   "id": "3ab3b69f556c0",
   "metadata": {
    "ExecuteTime": {
     "end_time": "2024-03-21T13:24:31.281346Z",
     "start_time": "2024-03-21T13:24:31.274916Z"
    },
    "collapsed": false
   },
   "outputs": [],
   "source": [
    "for msg in agent_executor_with_persistence_mem.get_state( {\"configurable\": {\"thread_id\": \"2\"}}).values.get(\"messages\"):\n",
    "    print(msg.__class__)\n",
    "    print(msg)\n",
    "    print(\"#####\")"
   ]
  },
  {
   "cell_type": "code",
   "execution_count": null,
   "id": "38c1af38fd65a529",
   "metadata": {
    "ExecuteTime": {
     "end_time": "2024-03-21T13:20:41.616361Z",
     "start_time": "2024-03-21T13:20:37.456546Z"
    },
    "collapsed": false
   },
   "outputs": [],
   "source": [
    "inputs = {\"messages\":[HumanMessage(content=\"and microsoft?\")]}\n",
    "for event in agent_executor_with_persistence_mem.stream(inputs, {\"configurable\": {\"thread_id\": \"2\"}}):\n",
    "    for k, v in event.items():\n",
    "        if k != \"__end__\":\n",
    "            print(v)"
   ]
  },
  {
   "cell_type": "code",
   "execution_count": null,
   "id": "381afb4ef0e5e81d",
   "metadata": {
    "ExecuteTime": {
     "end_time": "2024-03-20T06:59:59.702258Z",
     "start_time": "2024-03-20T06:59:44.036233Z"
    },
    "collapsed": false
   },
   "outputs": [],
   "source": [
    "for msg in agent_executor_with_persistence_mem.get_state( {\"configurable\": {\"thread_id\": \"2\"}}).values.get(\"messages\"):\n",
    "    print(msg.__class__)\n",
    "    print(msg)\n",
    "    print(\"#####\")\n",
    "\n"
   ]
  },
  {
   "cell_type": "code",
   "execution_count": null,
   "id": "2c10d6925993cd2",
   "metadata": {
    "collapsed": false
   },
   "outputs": [],
   "source": [
    "# View in langsmith"
   ]
  }
 ],
 "metadata": {
  "kernelspec": {
   "display_name": "Python 3",
   "language": "python",
   "name": "python3"
  },
  "language_info": {
   "codemirror_mode": {
    "name": "ipython",
    "version": 3
   },
   "file_extension": ".py",
   "mimetype": "text/x-python",
   "name": "python",
   "nbconvert_exporter": "python",
   "pygments_lexer": "ipython3",
   "version": "3.11.4"
  }
 },
 "nbformat": 4,
 "nbformat_minor": 5
}
